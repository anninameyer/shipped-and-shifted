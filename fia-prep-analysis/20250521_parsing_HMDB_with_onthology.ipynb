{
 "cells": [
  {
   "cell_type": "markdown",
   "metadata": {},
   "source": [
    "# Parsing HMDB including molecule classes and subclasses (full onthology)"
   ]
  },
  {
   "cell_type": "code",
   "execution_count": null,
   "metadata": {},
   "outputs": [],
   "source": [
    "import os\n",
    "import qiime2\n",
    "import pandas as pd\n",
    "import seaborn as sns\n",
    "import matplotlib.pyplot as plt\n",
    "\n",
    "# Define the working directory\n",
    "wd = '/home/meyeanni/cloud/meyeanni/LP4/artifacts/metabolomics'\n",
    "\n",
    "# Change to the working directory\n",
    "os.chdir(wd)\n",
    "\n",
    "# Verify current working directory\n",
    "print(\"Current working directory:\", os.getcwd())"
   ]
  },
  {
   "cell_type": "code",
   "execution_count": null,
   "metadata": {},
   "outputs": [],
   "source": [
    "import csv\n",
    "import io\n",
    "from lxml import etree\n",
    "from tqdm import tqdm\n",
    "\n",
    "xml_file = 'hmdb_metabolites.xml'\n",
    "output_file = 'hmdb_mass_ontology.csv'\n",
    "namespace = 'http://www.hmdb.ca'\n",
    "ns = {'hmdb': namespace}\n",
    "\n",
    "# Clean null bytes (just in case)\n",
    "def clean_xml(file_path):\n",
    "    with open(file_path, 'rb') as f:\n",
    "        return io.BytesIO(f.read().replace(b'\\x00', b''))\n",
    "\n",
    "# Utility: safe text extraction\n",
    "def extract_text(elem, path):\n",
    "    try:\n",
    "        return elem.xpath(path, namespaces=ns)[0].strip()\n",
    "    except:\n",
    "        return 'NA'\n",
    "\n",
    "# Start parsing\n",
    "xml_cleaned = clean_xml(xml_file)\n",
    "\n",
    "fieldnames = [\n",
    "    'accession', 'name', 'monoisotopic_molecular_weight', 'chemical_formula',\n",
    "    'kingdom', 'super_class', 'class', 'sub_class', 'molecular_framework'\n",
    "]\n",
    "\n",
    "with open(output_file, 'w', newline='', encoding='utf-8') as csvfile:\n",
    "    writer = csv.DictWriter(csvfile, fieldnames=fieldnames)\n",
    "    writer.writeheader()\n",
    "\n",
    "    context = etree.iterparse(xml_cleaned, tag=f'{{{namespace}}}metabolite', recover=True)\n",
    "\n",
    "    for _, elem in tqdm(context, desc=\"Extracting HMDB data\", unit=\"entries\"):\n",
    "        row = {\n",
    "            'accession': extract_text(elem, 'hmdb:accession/text()'),\n",
    "            'name': extract_text(elem, 'hmdb:name/text()'),\n",
    "            'monoisotopic_molecular_weight': extract_text(elem, 'hmdb:monoisotopic_molecular_weight/text()'),\n",
    "            'chemical_formula': extract_text(elem, 'hmdb:chemical_formula/text()'),\n",
    "            'kingdom': extract_text(elem, 'hmdb:taxonomy/hmdb:kingdom/text()'),\n",
    "            'super_class': extract_text(elem, 'hmdb:taxonomy/hmdb:super_class/text()'),\n",
    "            'class': extract_text(elem, 'hmdb:taxonomy/hmdb:class/text()'),\n",
    "            'sub_class': extract_text(elem, 'hmdb:taxonomy/hmdb:sub_class/text()'),\n",
    "            'molecular_framework': extract_text(elem, 'hmdb:taxonomy/hmdb:molecular_framework/text()')\n",
    "        }\n",
    "        writer.writerow(row)\n",
    "\n",
    "        elem.clear()\n",
    "        while elem.getprevious() is not None:\n",
    "            del elem.getparent()[0]\n",
    "    del context\n",
    "\n",
    "print(f\"\\nDone! Data saved to {output_file}\")\n",
    "\n",
    "\n"
   ]
  }
 ],
 "metadata": {
  "language_info": {
   "name": "python"
  }
 },
 "nbformat": 4,
 "nbformat_minor": 2
}
